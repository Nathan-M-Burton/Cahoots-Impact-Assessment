{
 "cells": [
  {
   "cell_type": "markdown",
   "id": "a41205a0",
   "metadata": {},
   "source": [
    "# (1) Clean The CAD Data"
   ]
  },
  {
   "cell_type": "code",
   "execution_count": 152,
   "id": "25c73b81",
   "metadata": {},
   "outputs": [],
   "source": [
    "#imports\n",
    "import pandas as pd\n",
    "from pathlib import Path"
   ]
  },
  {
   "cell_type": "code",
   "execution_count": 153,
   "id": "b060e9f7",
   "metadata": {},
   "outputs": [],
   "source": [
    "# Bring in the CAD Data and select relevant columns\n",
    "CAD_data = pd.read_csv(\"data/call_data_from_CAD.csv\")\n",
    "CAD_data = CAD_data[[\"IncidentNumber\", \"Call_Created_Time\", \"Call_Source\", \"InitialIncidentTypeDescription\", \"Disposition\",\n",
    "                     \"PrimaryUnitCallSign\", \"RespondingUnitCallSign\", \"IsPrimary\", \"Call_First_Dispatched_Time\", \"Call_First_On_Scene\"]].copy()\n",
    "\n",
    "# Convert Date Time objects\n",
    "CAD_data[\"Call_Created_Time\"] = pd.to_datetime(CAD_data['Call_Created_Time'], errors='coerce')\n",
    "CAD_data[\"Call_First_Dispatched_Time\"] = pd.to_datetime(CAD_data['Call_First_Dispatched_Time'], errors='coerce')\n",
    "CAD_data[\"Call_First_On_Scene\"] = pd.to_datetime(CAD_data['Call_First_On_Scene'], errors='coerce')"
   ]
  },
  {
   "cell_type": "code",
   "execution_count": 154,
   "id": "07d474c1",
   "metadata": {},
   "outputs": [],
   "source": [
    "CAD_data = CAD_data[(CAD_data[\"Call_Created_Time\"].dt.year >= 2017) & (CAD_data[\"Call_Created_Time\"].dt.year <= 2021)]\n",
    "#CAD_data"
   ]
  },
  {
   "cell_type": "markdown",
   "id": "7fa16e64",
   "metadata": {},
   "source": [
    "### Standardize Cahoots identifiers "
   ]
  },
  {
   "cell_type": "code",
   "execution_count": 155,
   "id": "75feeed7",
   "metadata": {},
   "outputs": [],
   "source": [
    "# Standardize Cahoots identifiers \n",
    "cahoots_identifiers = r\"1J77\\s*|3J79\\s*|3J78\\s*|3J77\\s*|4J79\\s*|3J81\\s*|3J76\\s*|2J28\\s*|2J29\\s*|CAHOOT\\s*|CAHOT\\s*|CAHO\\s*\"\n",
    "\n",
    "CAD_data[\"PrimaryUnitCallSign\"] = CAD_data[\"PrimaryUnitCallSign\"].replace(cahoots_identifiers, 'CAHOOT', regex=True)\n",
    "CAD_data[\"RespondingUnitCallSign\"] = CAD_data[\"RespondingUnitCallSign\"].replace(cahoots_identifiers, 'CAHOOT', regex=True)\n",
    "\n",
    "# Create an identifier for Cahoots involvement \n",
    "CAD_data['Cahoots_related'] = ((CAD_data['PrimaryUnitCallSign'] == 'CAHOOT') | (CAD_data['RespondingUnitCallSign'] == 'CAHOOT')).astype(int)"
   ]
  },
  {
   "cell_type": "markdown",
   "id": "ed746f95",
   "metadata": {},
   "source": [
    "### Remove Disregards, duplicates, referrals and cancellations"
   ]
  },
  {
   "cell_type": "code",
   "execution_count": 156,
   "id": "ab52df14",
   "metadata": {},
   "outputs": [],
   "source": [
    "# Disregards\n",
    "CAD_data = CAD_data[CAD_data['Disposition'] != 'DISREGARD']\n",
    "CAD_data = CAD_data[CAD_data['Disposition'] != 'DISREGARDED BY DISPATCH']\n",
    "CAD_data = CAD_data[CAD_data['Disposition'] != 'DISREGARDED BY PATROL SUPERVISOR']\n",
    "\n",
    "# Duplicate or no Dispatch\n",
    "CAD_data = CAD_data[CAD_data['Disposition'] != 'ACCIDENTALLY CHOSE NEW EVENT']\n",
    "CAD_data = CAD_data[CAD_data['Disposition'] != 'MOTOR VEHICLE ACCIDENT - NO DISPATCH']\n",
    "CAD_data = CAD_data[CAD_data['Disposition'] != 'QUALITY OF LIFE - NO DISPATCH']\n",
    "CAD_data = CAD_data[CAD_data['Disposition'] != 'UNABLE TO DISPATCH']\n",
    "CAD_data = CAD_data[CAD_data['Disposition'] != 'WILL CALL BACK']\n",
    "CAD_data = CAD_data[~(CAD_data[\"PrimaryUnitCallSign\"].isna()) & ~(CAD_data[\"RespondingUnitCallSign\"].isna())]\n",
    "\n",
    "# Cancellations\n",
    "CAD_data = CAD_data[CAD_data['Disposition'] != 'NO ACTION TAKEN']\n",
    "CAD_data = CAD_data[CAD_data['Disposition'] != 'CANCEL WHILE ENROUTE']\n",
    "CAD_data = CAD_data[CAD_data['Disposition'] != 'RESOLVED']\n",
    "CAD_data = CAD_data[CAD_data['Disposition'] != 'CANCELED REPORT NUMBER']\n",
    "CAD_data = CAD_data[CAD_data['Disposition'] != 'CANCEL FIRE UNIT FROM CALL']\n",
    "\n",
    "# Referrals and relays\n",
    "CAD_data = CAD_data[CAD_data['Disposition'] != 'REFERRED TO OTHER AGENCY']\n",
    "CAD_data = CAD_data[CAD_data['Disposition'] != 'RELAYED TO UNIVERSITY OF OREGON POLICE']\n",
    "CAD_data = CAD_data[CAD_data['Disposition'] != 'RELAYED TO OREGON STATE POLICE']\n",
    "CAD_data = CAD_data[CAD_data['Disposition'] != 'RELAYED TO LANE COUNTY SHERIFFS OFFICE']\n",
    "CAD_data = CAD_data[CAD_data['Disposition'] != 'RELAYED TO PARKING CONTROL']\n",
    "\n",
    "#CAD_data"
   ]
  },
  {
   "cell_type": "code",
   "execution_count": 157,
   "id": "f8080bde",
   "metadata": {},
   "outputs": [
    {
     "name": "stdout",
     "output_type": "stream",
     "text": [
      "Cleaned data saved to data\\cleaned_data\\cleaned_CAD_data.csv\n"
     ]
    }
   ],
   "source": [
    "CAD_data = CAD_data.sort_values(by=\"Call_Created_Time\")\n",
    "output_dir = Path(\"data/cleaned_data\")\n",
    "output_dir.mkdir(parents=True, exist_ok=True)\n",
    "\n",
    "# Save the cleaned DataFrame \n",
    "output_path = output_dir / \"cleaned_CAD_data.csv\"\n",
    "CAD_data.to_csv(output_path, index=False)\n",
    "\n",
    "print(f\"Cleaned data saved to {output_path}\")"
   ]
  },
  {
   "cell_type": "markdown",
   "id": "6f7feb41",
   "metadata": {},
   "source": [
    "# Create CAD Diversions Dataset"
   ]
  },
  {
   "cell_type": "code",
   "execution_count": 158,
   "id": "3bbf11a6",
   "metadata": {},
   "outputs": [],
   "source": [
    "import pandas as pd\n",
    "CAD_data = pd.read_csv(\"data\\cleaned_data\\cleaned_CAD_data.csv\")\n",
    "#CAD_data"
   ]
  },
  {
   "cell_type": "markdown",
   "id": "26e85cf7",
   "metadata": {},
   "source": [
    "### Remove all call types with 0 overlap between Police and Cahoots"
   ]
  },
  {
   "cell_type": "code",
   "execution_count": 159,
   "id": "7b315ca9",
   "metadata": {},
   "outputs": [],
   "source": [
    "cahoots_related = CAD_data[CAD_data['Cahoots_related'] == 1]\n",
    "police_handled = CAD_data[CAD_data['Cahoots_related'] == 0]\n",
    "\n",
    "# Unique incident types\n",
    "cahoots_types = cahoots_related['InitialIncidentTypeDescription'].unique()\n",
    "police_types = police_handled['InitialIncidentTypeDescription'].unique()\n",
    "\n",
    "# Incident types never responded to by Cahoots\n",
    "never_cahoots_type = list(set(police_types) - set(cahoots_types))\n",
    "\n",
    "# Incident types never responded to by police\n",
    "never_police_type = list(set(cahoots_types) - set(police_types))\n",
    "\n",
    "# Unique dispositions\n",
    "cahoots_disp = cahoots_related['Disposition'].unique()\n",
    "police_disp = police_handled['Disposition'].unique()\n",
    "\n",
    "# Dispositions never responded to by Cahoots\n",
    "never_cahoots_disp = list(set(police_disp) - set(cahoots_disp))\n",
    "\n",
    "# Dispositions never responded to by police\n",
    "never_police_disp = list(set(cahoots_disp) - set(police_disp))\n",
    "\n",
    "# Filter out incidents and dispositions never responded to by Cahoots or police\n",
    "CAD_data_diversions = CAD_data[\n",
    "    ~CAD_data['InitialIncidentTypeDescription'].isin(never_cahoots_type) &\n",
    "    ~CAD_data['InitialIncidentTypeDescription'].isin(never_police_type)\n",
    "]\n",
    "CAD_data_diversions = CAD_data_diversions[\n",
    "    ~CAD_data_diversions['Disposition'].isin(never_cahoots_disp) &\n",
    "    ~CAD_data_diversions['Disposition'].isin(never_police_disp)\n",
    "]\n",
    "#CAD_data_diversions"
   ]
  },
  {
   "cell_type": "markdown",
   "id": "9fc462a8",
   "metadata": {},
   "source": [
    "### Remove call types below composite score threshold"
   ]
  },
  {
   "cell_type": "code",
   "execution_count": 160,
   "id": "9e157cbb",
   "metadata": {},
   "outputs": [],
   "source": [
    "from scipy.stats import zscore\n",
    "import numpy as np\n",
    "\n",
    "# Calculate total calls, Cahoots calls, and police calls for each type in CAD_data_diversions\n",
    "total_calls = CAD_data_diversions['InitialIncidentTypeDescription'].value_counts()\n",
    "cahoots_calls = CAD_data_diversions[CAD_data_diversions['Cahoots_related'] == 1]['InitialIncidentTypeDescription'].value_counts()\n",
    "police_calls = CAD_data_diversions[CAD_data_diversions['Cahoots_related'] == 0]['InitialIncidentTypeDescription'].value_counts()\n",
    "\n",
    "# Calculate proportions of Cahoots and police involvement in CAD_data_diversions\n",
    "cahoots_proportion = cahoots_calls / total_calls\n",
    "police_proportion = police_calls / total_calls\n",
    "\n",
    "# Apply scaling\n",
    "scaled_cahoots_calls = np.log(cahoots_calls)\n",
    "scaled_police_calls = np.log(police_calls)\n",
    "\n",
    "# Calculate harmonic mean of the proportions\n",
    "harmonic_mean_proportion = 2 * (cahoots_proportion * police_proportion) / (cahoots_proportion + police_proportion + 1e-10)  # avoid division by zero\n",
    "\n",
    "# Composite score based on harmonic mean and call counts\n",
    "composite_scores = harmonic_mean_proportion * ((scaled_cahoots_calls + scaled_police_calls))\n",
    "\n",
    "# Apply z-score normalization to the composite scores\n",
    "normalized_composite_scores = zscore(composite_scores)\n",
    "\n",
    "# normalized composite scorethreshold\n",
    "substantial_incident_types = composite_scores[normalized_composite_scores > 1.5].index\n",
    "\n",
    "# Filter data\n",
    "filtered_CAD_data_diversions = CAD_data_diversions[CAD_data_diversions['InitialIncidentTypeDescription'].isin(substantial_incident_types)]\n",
    "\n",
    "#filtered_CAD_data_diversions"
   ]
  },
  {
   "cell_type": "code",
   "execution_count": 161,
   "id": "d946b968",
   "metadata": {},
   "outputs": [
    {
     "name": "stdout",
     "output_type": "stream",
     "text": [
      "Cleaned data saved to data\\cleaned_data\\cleaned_CAD_diversions.csv\n"
     ]
    }
   ],
   "source": [
    "# Save File \n",
    "output_path = output_dir / \"cleaned_CAD_diversions.csv\"\n",
    "filtered_CAD_data_diversions.to_csv(output_path, index=False)\n",
    "\n",
    "print(f\"Cleaned data saved to {output_path}\")"
   ]
  },
  {
   "cell_type": "markdown",
   "id": "b2cb69aa",
   "metadata": {},
   "source": [
    "# Police Replication Dataset"
   ]
  },
  {
   "cell_type": "code",
   "execution_count": 162,
   "id": "b311e386",
   "metadata": {},
   "outputs": [],
   "source": [
    "import pandas as pd\n",
    "CAD_data = pd.read_csv(\"data/call_data_from_CAD.csv\")"
   ]
  },
  {
   "cell_type": "markdown",
   "id": "685bd240",
   "metadata": {},
   "source": [
    "### Convert to DT"
   ]
  },
  {
   "cell_type": "code",
   "execution_count": 163,
   "id": "62978105",
   "metadata": {},
   "outputs": [],
   "source": [
    "CAD_data[\"Call_Created_Time\"] = pd.to_datetime(CAD_data['Call_Created_Time'], errors='coerce')\n",
    "CAD_data[\"year\"] = CAD_data[\"Call_Created_Time\"].dt.year"
   ]
  },
  {
   "cell_type": "code",
   "execution_count": 164,
   "id": "c746db05",
   "metadata": {},
   "outputs": [],
   "source": [
    "# Standardize Cahoots identifiers \n",
    "cahoots_identifiers = r\"1J77\\s*|3J79\\s*|3J78\\s*|3J77\\s*|4J79\\s*|3J81\\s*|3J76\\s*|2J28\\s*|2J29\\s*|CAHOOT\\s*|CAHOT\\s*|CAHO\\s*\"\n",
    "\n",
    "CAD_data[\"PrimaryUnitCallSign\"] = CAD_data[\"PrimaryUnitCallSign\"].replace(cahoots_identifiers, 'CAHOOT', regex=True)\n",
    "CAD_data[\"RespondingUnitCallSign\"] = CAD_data[\"RespondingUnitCallSign\"].replace(cahoots_identifiers, 'CAHOOT', regex=True)\n",
    "# Standardize Cahoots identifiers \n",
    "cahoots_identifiers = r\"1J77\\s*|3J79\\s*|3J78\\s*|3J77\\s*|4J79\\s*|3J81\\s*|3J76\\s*|2J28\\s*|2J29\\s*|CAHOOT\\s*|CAHOT\\s*|CAHO\\s*\"\n",
    "\n",
    "CAD_data[\"PrimaryUnitCallSign\"] = CAD_data[\"PrimaryUnitCallSign\"].replace(cahoots_identifiers, 'CAHOOT', regex=True)\n",
    "CAD_data[\"RespondingUnitCallSign\"] = CAD_data[\"RespondingUnitCallSign\"].replace(cahoots_identifiers, 'CAHOOT', regex=True)\n",
    "\n",
    "# Create an identifier for Cahoots involvement \n",
    "CAD_data['Cahoots_related'] = ((CAD_data['PrimaryUnitCallSign'] == 'CAHOOT') | (CAD_data['RespondingUnitCallSign'] == 'CAHOOT')).astype(int)"
   ]
  },
  {
   "cell_type": "code",
   "execution_count": 165,
   "id": "f550fd19",
   "metadata": {},
   "outputs": [],
   "source": [
    "data_cleaned = CAD_data.drop(columns=['Unnamed: 0'])\n",
    "data_cleaned = data_cleaned.sort_values(by=\"Call_Created_Time\")"
   ]
  },
  {
   "cell_type": "code",
   "execution_count": 166,
   "id": "d05371f0",
   "metadata": {},
   "outputs": [],
   "source": [
    "CAD_2021 = data_cleaned[data_cleaned[\"year\"] == 2021].copy()"
   ]
  },
  {
   "cell_type": "code",
   "execution_count": 167,
   "id": "9689e0f3",
   "metadata": {},
   "outputs": [
    {
     "name": "stdout",
     "output_type": "stream",
     "text": [
      "Cleaned data saved to data\\cleaned_data\\cleaned_CAD_data_diversions.csv\n"
     ]
    }
   ],
   "source": [
    "from pathlib import Path\n",
    "output_dir = Path(\"data/cleaned_data\")\n",
    "output_dir.mkdir(parents=True, exist_ok=True)\n",
    "\n",
    "# Save the cleaned DataFrame \n",
    "output_path = output_dir / \"cleaned_CAD_data_diversions.csv\"\n",
    "data_cleaned.to_csv(output_path, index=False)\n",
    "\n",
    "print(f\"Cleaned data saved to {output_path}\")"
   ]
  },
  {
   "cell_type": "code",
   "execution_count": 168,
   "id": "d0d0f997",
   "metadata": {},
   "outputs": [
    {
     "name": "stdout",
     "output_type": "stream",
     "text": [
      "Cleaned data saved to data\\cleaned_data\\cleaned_CAD_data_2021_diversions.csv\n"
     ]
    }
   ],
   "source": [
    "output_dir = Path(\"data/cleaned_data\")\n",
    "output_dir.mkdir(parents=True, exist_ok=True)\n",
    "\n",
    "# Save the cleaned DataFrame \n",
    "output_path = output_dir / \"cleaned_CAD_data_2021_diversions.csv\"\n",
    "CAD_2021.to_csv(output_path, index=False)\n",
    "\n",
    "print(f\"Cleaned data saved to {output_path}\")"
   ]
  },
  {
   "cell_type": "code",
   "execution_count": null,
   "id": "dfbd1296",
   "metadata": {},
   "outputs": [],
   "source": []
  }
 ],
 "metadata": {
  "kernelspec": {
   "display_name": "Python 3 (ipykernel)",
   "language": "python",
   "name": "python3"
  },
  "language_info": {
   "codemirror_mode": {
    "name": "ipython",
    "version": 3
   },
   "file_extension": ".py",
   "mimetype": "text/x-python",
   "name": "python",
   "nbconvert_exporter": "python",
   "pygments_lexer": "ipython3",
   "version": "3.11.3"
  }
 },
 "nbformat": 4,
 "nbformat_minor": 5
}
